{
 "cells": [
  {
   "cell_type": "code",
   "execution_count": 1,
   "metadata": {},
   "outputs": [],
   "source": [
    "#importing h2o libraries\n",
    "import h2o\n",
    "from h2o.automl import H2OAutoML\n",
    "import random, os, sys\n",
    "from datetime import datetime\n",
    "import pandas as pd\n",
    "import logging\n",
    "import csv\n",
    "import optparse\n",
    "import time\n",
    "import json\n",
    "from distutils.util import strtobool\n",
    "import psutil\n",
    "import numpy as np\n"
   ]
  },
  {
   "cell_type": "code",
   "execution_count": 3,
   "metadata": {},
   "outputs": [
    {
     "name": "stdout",
     "output_type": "stream",
     "text": [
      "Checking whether there is an H2O instance running at http://localhost:53767..... not found.\n",
      "Attempting to start a local H2O server...\n",
      "; Java HotSpot(TM) 64-Bit Server VM (build 25.201-b09, mixed mode)\n",
      "  Starting server from C:\\Users\\manog\\Anaconda3\\lib\\site-packages\\h2o\\backend\\bin\\h2o.jar\n",
      "  Ice root: C:\\Users\\manog\\AppData\\Local\\Temp\\tmp0y0o9hdx\n",
      "  JVM stdout: C:\\Users\\manog\\AppData\\Local\\Temp\\tmp0y0o9hdx\\h2o_manog_started_from_python.out\n",
      "  JVM stderr: C:\\Users\\manog\\AppData\\Local\\Temp\\tmp0y0o9hdx\\h2o_manog_started_from_python.err\n",
      "  Server is running at http://127.0.0.1:53767\n",
      "Connecting to H2O server at http://127.0.0.1:53767... successful.\n"
     ]
    },
    {
     "data": {
      "text/html": [
       "<div style=\"overflow:auto\"><table style=\"width:50%\"><tr><td>H2O cluster uptime:</td>\n",
       "<td>04 secs</td></tr>\n",
       "<tr><td>H2O cluster timezone:</td>\n",
       "<td>America/New_York</td></tr>\n",
       "<tr><td>H2O data parsing timezone:</td>\n",
       "<td>UTC</td></tr>\n",
       "<tr><td>H2O cluster version:</td>\n",
       "<td>3.22.1.3</td></tr>\n",
       "<tr><td>H2O cluster version age:</td>\n",
       "<td>2 months and 9 days </td></tr>\n",
       "<tr><td>H2O cluster name:</td>\n",
       "<td>H2O_from_python_manog_z5i2o2</td></tr>\n",
       "<tr><td>H2O cluster total nodes:</td>\n",
       "<td>1</td></tr>\n",
       "<tr><td>H2O cluster free memory:</td>\n",
       "<td>1.917 Gb</td></tr>\n",
       "<tr><td>H2O cluster total cores:</td>\n",
       "<td>8</td></tr>\n",
       "<tr><td>H2O cluster allowed cores:</td>\n",
       "<td>8</td></tr>\n",
       "<tr><td>H2O cluster status:</td>\n",
       "<td>accepting new members, healthy</td></tr>\n",
       "<tr><td>H2O connection url:</td>\n",
       "<td>http://127.0.0.1:53767</td></tr>\n",
       "<tr><td>H2O connection proxy:</td>\n",
       "<td>None</td></tr>\n",
       "<tr><td>H2O internal security:</td>\n",
       "<td>False</td></tr>\n",
       "<tr><td>H2O API Extensions:</td>\n",
       "<td>Algos, AutoML, Core V3, Core V4</td></tr>\n",
       "<tr><td>Python version:</td>\n",
       "<td>3.7.1 final</td></tr></table></div>"
      ],
      "text/plain": [
       "--------------------------  -------------------------------\n",
       "H2O cluster uptime:         04 secs\n",
       "H2O cluster timezone:       America/New_York\n",
       "H2O data parsing timezone:  UTC\n",
       "H2O cluster version:        3.22.1.3\n",
       "H2O cluster version age:    2 months and 9 days\n",
       "H2O cluster name:           H2O_from_python_manog_z5i2o2\n",
       "H2O cluster total nodes:    1\n",
       "H2O cluster free memory:    1.917 Gb\n",
       "H2O cluster total cores:    8\n",
       "H2O cluster allowed cores:  8\n",
       "H2O cluster status:         accepting new members, healthy\n",
       "H2O connection url:         http://127.0.0.1:53767\n",
       "H2O connection proxy:\n",
       "H2O internal security:      False\n",
       "H2O API Extensions:         Algos, AutoML, Core V3, Core V4\n",
       "Python version:             3.7.1 final\n",
       "--------------------------  -------------------------------"
      ]
     },
     "metadata": {},
     "output_type": "display_data"
    }
   ],
   "source": [
    "target='count'\n",
    "run_time=300\n",
    "pct_memory=0.95\n",
    "virtual_memory=psutil.virtual_memory()\n",
    "min_mem_size=int(round(int(pct_memory*virtual_memory.available)/1073741824,0))\n",
    "port_no=random.randint(5555,55555)\n",
    "h2o.init(strict_version_check=False,min_mem_size_GB=min_mem_size,port=port_no)"
   ]
  },
  {
   "cell_type": "code",
   "execution_count": 6,
   "metadata": {},
   "outputs": [
    {
     "name": "stdout",
     "output_type": "stream",
     "text": [
      "Parse progress: |█████████████████████████████████████████████████████████| 100%\n",
      "Parse progress: |█████████████████████████████████████████████████████████| 100%\n"
     ]
    }
   ],
   "source": [
    "#importing train file\n",
    "df = h2o.import_file(path = 'train.csv')\n",
    "\n",
    "#importing test file\n",
    "df_test = h2o.import_file(path = 'test.csv')"
   ]
  },
  {
   "cell_type": "code",
   "execution_count": 22,
   "metadata": {},
   "outputs": [],
   "source": [
    "def get_independent_variables(df, targ):\n",
    " C = [name for name in df.columns if name != targ]\n",
    "# determine column types\n",
    " ints, reals, enums,strings = [], [], [], []\n",
    " for key, val in df.types.items():\n",
    "     if key in C:\n",
    "         if val == 'enum':\n",
    "             enums.append(key)\n",
    "         elif val == 'int':\n",
    "             ints.append(key)\n",
    "         elif val == 'string':\n",
    "            strings.append(key)\n",
    "         else:\n",
    "             reals.append(key)\n",
    " x=ints+enums+strings+reals\n",
    " return x"
   ]
  },
  {
   "cell_type": "code",
   "execution_count": 24,
   "metadata": {},
   "outputs": [
    {
     "name": "stdout",
     "output_type": "stream",
     "text": [
      "['season', 'holiday', 'workingday', 'weather', 'humidity', 'casual', 'registered', 'datetime', 'temp', 'atemp', 'windspeed']\n"
     ]
    }
   ],
   "source": [
    "X=get_independent_variables(df, target)\n",
    "print(X)\n",
    "y = target"
   ]
  },
  {
   "cell_type": "code",
   "execution_count": 25,
   "metadata": {},
   "outputs": [
    {
     "name": "stdout",
     "output_type": "stream",
     "text": [
      "AutoML progress: |████████████████████████████████████████████████████████| 100%\n"
     ]
    },
    {
     "data": {
      "text/html": [
       "<table>\n",
       "<thead>\n",
       "<tr><th>model_id                                 </th><th style=\"text-align: right;\">  mean_residual_deviance</th><th style=\"text-align: right;\">   rmse</th><th style=\"text-align: right;\">    mse</th><th style=\"text-align: right;\">    mae</th><th style=\"text-align: right;\">      rmsle</th></tr>\n",
       "</thead>\n",
       "<tbody>\n",
       "<tr><td>GBM_1_AutoML_20190403_213948             </td><td style=\"text-align: right;\">                 14.3184</td><td style=\"text-align: right;\">3.78396</td><td style=\"text-align: right;\">14.3184</td><td style=\"text-align: right;\">2.41072</td><td style=\"text-align: right;\">  0.0569215</td></tr>\n",
       "<tr><td>GBM_1_AutoML_20190403_223236             </td><td style=\"text-align: right;\">                 17.4987</td><td style=\"text-align: right;\">4.18314</td><td style=\"text-align: right;\">17.4987</td><td style=\"text-align: right;\">2.65311</td><td style=\"text-align: right;\">  0.0670842</td></tr>\n",
       "<tr><td>GBM_2_AutoML_20190403_213948             </td><td style=\"text-align: right;\">                 18.4736</td><td style=\"text-align: right;\">4.2981 </td><td style=\"text-align: right;\">18.4736</td><td style=\"text-align: right;\">2.68488</td><td style=\"text-align: right;\">  0.0597701</td></tr>\n",
       "<tr><td>GBM_3_AutoML_20190403_213948             </td><td style=\"text-align: right;\">                 20.2788</td><td style=\"text-align: right;\">4.5032 </td><td style=\"text-align: right;\">20.2788</td><td style=\"text-align: right;\">2.78564</td><td style=\"text-align: right;\">  0.0601604</td></tr>\n",
       "<tr><td>GBM_2_AutoML_20190403_223236             </td><td style=\"text-align: right;\">                 20.6009</td><td style=\"text-align: right;\">4.53882</td><td style=\"text-align: right;\">20.6009</td><td style=\"text-align: right;\">2.95725</td><td style=\"text-align: right;\">  0.0905501</td></tr>\n",
       "<tr><td>GBM_3_AutoML_20190403_223236             </td><td style=\"text-align: right;\">                 22.0129</td><td style=\"text-align: right;\">4.69179</td><td style=\"text-align: right;\">22.0129</td><td style=\"text-align: right;\">2.97858</td><td style=\"text-align: right;\">  0.076483 </td></tr>\n",
       "<tr><td>GLM_grid_1_AutoML_20190403_213948_model_1</td><td style=\"text-align: right;\">                 34.3276</td><td style=\"text-align: right;\">5.85898</td><td style=\"text-align: right;\">34.3276</td><td style=\"text-align: right;\">4.25956</td><td style=\"text-align: right;\">  0.248612 </td></tr>\n",
       "<tr><td>GLM_grid_1_AutoML_20190403_223236_model_1</td><td style=\"text-align: right;\">                 34.3276</td><td style=\"text-align: right;\">5.85898</td><td style=\"text-align: right;\">34.3276</td><td style=\"text-align: right;\">4.25956</td><td style=\"text-align: right;\">  0.248612 </td></tr>\n",
       "<tr><td>GBM_4_AutoML_20190403_213948             </td><td style=\"text-align: right;\">                 40.4256</td><td style=\"text-align: right;\">6.35811</td><td style=\"text-align: right;\">40.4256</td><td style=\"text-align: right;\">4.16274</td><td style=\"text-align: right;\">nan        </td></tr>\n",
       "<tr><td>GBM_5_AutoML_20190403_213948             </td><td style=\"text-align: right;\">                 55.2706</td><td style=\"text-align: right;\">7.43442</td><td style=\"text-align: right;\">55.2706</td><td style=\"text-align: right;\">3.7346 </td><td style=\"text-align: right;\">nan        </td></tr>\n",
       "</tbody>\n",
       "</table>"
      ]
     },
     "metadata": {},
     "output_type": "display_data"
    },
    {
     "name": "stdout",
     "output_type": "stream",
     "text": [
      "\n"
     ]
    }
   ],
   "source": [
    "aml = H2OAutoML(max_runtime_secs=run_time,exclude_algos = ['DeepLearning'])\n",
    "aml = H2OAutoML(max_runtime_secs=run_time,exclude_algos = ['DeepLearning'])\n",
    "aml.train(x=X,y=y,training_frame=df)\n",
    "print(aml.leaderboard)"
   ]
  },
  {
   "cell_type": "code",
   "execution_count": 26,
   "metadata": {},
   "outputs": [
    {
     "name": "stdout",
     "output_type": "stream",
     "text": [
      "gbm prediction progress: |████████████████████████████████████████████████| 100%\n"
     ]
    },
    {
     "name": "stderr",
     "output_type": "stream",
     "text": [
      "C:\\Users\\manog\\Anaconda3\\lib\\site-packages\\h2o\\job.py:69: UserWarning: Test/Validation dataset is missing column 'casual': substituting in a column of NaN\n",
      "  warnings.warn(w)\n",
      "C:\\Users\\manog\\Anaconda3\\lib\\site-packages\\h2o\\job.py:69: UserWarning: Test/Validation dataset is missing column 'registered': substituting in a column of NaN\n",
      "  warnings.warn(w)\n"
     ]
    }
   ],
   "source": [
    "best_model = h2o.get_model(aml.leaderboard[0,'model_id'])\n",
    "pred = best_model.predict(df_test)\n",
    "df_res = pd.DataFrame(h2o.as_list(df_test), columns=['datetime'])\n",
    "df_res['count'] = h2o.as_list(pred)\n",
    "df_res.to_csv('resulth2o.csv', index=False)"
   ]
  },
  {
   "cell_type": "code",
   "execution_count": null,
   "metadata": {},
   "outputs": [],
   "source": []
  }
 ],
 "metadata": {
  "kernelspec": {
   "display_name": "Python 3",
   "language": "python",
   "name": "python3"
  },
  "language_info": {
   "codemirror_mode": {
    "name": "ipython",
    "version": 3
   },
   "file_extension": ".py",
   "mimetype": "text/x-python",
   "name": "python",
   "nbconvert_exporter": "python",
   "pygments_lexer": "ipython3",
   "version": "3.7.1"
  }
 },
 "nbformat": 4,
 "nbformat_minor": 2
}
